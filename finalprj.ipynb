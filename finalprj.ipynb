{
  "nbformat": 4,
  "nbformat_minor": 0,
  "metadata": {
    "colab": {
      "name": "finalprj.ipynb",
      "version": "0.3.2",
      "provenance": [],
      "collapsed_sections": [],
      "include_colab_link": true
    },
    "kernelspec": {
      "name": "python3",
      "display_name": "Python 3"
    },
    "accelerator": "GPU"
  },
  "cells": [
    {
      "cell_type": "markdown",
      "metadata": {
        "id": "view-in-github",
        "colab_type": "text"
      },
      "source": [
        "<a href=\"https://colab.research.google.com/github/gp201/CNN-Handwritten-digits/blob/master/finalprj.ipynb\" target=\"_parent\"><img src=\"https://colab.research.google.com/assets/colab-badge.svg\" alt=\"Open In Colab\"/></a>"
      ]
    },
    {
      "cell_type": "code",
      "metadata": {
        "id": "nANMa00lpBqk",
        "colab_type": "code",
        "outputId": "44a9927c-5b3c-4438-85d0-b7c94504a039",
        "colab": {
          "base_uri": "https://localhost:8080/",
          "height": 34
        }
      },
      "source": [
        "#Author: Praneeth(gp01)\n",
        "#import library\n",
        "\n",
        "import numpy\n",
        "import tensorflow as tf\n",
        "from tensorflow.keras import layers\n",
        "import numpy as np\n",
        "from tensorflow.keras.datasets import mnist\n",
        "from tensorflow.keras.models import Sequential\n",
        "from tensorflow.keras.layers import Dense\n",
        "from tensorflow.keras.layers import Dropout\n",
        "from tensorflow.keras.layers import Flatten\n",
        "from tensorflow.keras.layers import Conv2D\n",
        "from tensorflow.keras.layers import MaxPooling2D\n",
        "from keras.utils import np_utils\n",
        "#from keras import backend as K\n",
        "import matplotlib.pyplot as plt\n",
        "%matplotlib inline"
      ],
      "execution_count": 0,
      "outputs": [
        {
          "output_type": "stream",
          "text": [
            "Using TensorFlow backend.\n"
          ],
          "name": "stderr"
        }
      ]
    },
    {
      "cell_type": "code",
      "metadata": {
        "id": "HMb8HYZ1pK1e",
        "colab_type": "code",
        "outputId": "d02039e6-2135-40fb-fb03-c3531b9cf095",
        "colab": {
          "base_uri": "https://localhost:8080/",
          "height": 50
        }
      },
      "source": [
        "# load data\n",
        "(train_images, train_labels), (test_images, test_labels) = mnist.load_data()\n",
        "# reshape to be [samples][width][height][pixels]\n",
        "train_images = train_images.reshape(train_images.shape[0], 28, 28, 1).astype('float32')\n",
        "test_images = test_images.reshape(test_images.shape[0], 28, 28, 1).astype('float32')"
      ],
      "execution_count": 0,
      "outputs": [
        {
          "output_type": "stream",
          "text": [
            "Downloading data from https://storage.googleapis.com/tensorflow/tf-keras-datasets/mnist.npz\n",
            "11493376/11490434 [==============================] - 0s 0us/step\n"
          ],
          "name": "stdout"
        }
      ]
    },
    {
      "cell_type": "code",
      "metadata": {
        "id": "5XMw6b0GpNmd",
        "colab_type": "code",
        "colab": {}
      },
      "source": [
        "# normalize inputs from 0-255 to 0-1\n",
        "train_images = train_images / 255\n",
        "test_images = test_images / 255\n",
        "# idk what \n",
        "train_labels = np_utils.to_categorical(train_labels)\n",
        "test_labels = np_utils.to_categorical(test_labels)"
      ],
      "execution_count": 0,
      "outputs": []
    },
    {
      "cell_type": "code",
      "metadata": {
        "id": "imJsRR_Qs7aN",
        "colab_type": "code",
        "outputId": "60150b3d-cd11-42d2-92eb-706886d9c980",
        "colab": {
          "base_uri": "https://localhost:8080/",
          "height": 138
        }
      },
      "source": [
        "# define the larger model\n",
        "model = tf.keras.Sequential()\n",
        "model.add(Conv2D(32, (5, 5),input_shape=(28, 28, 1), activation='relu'))\n",
        "model.add(MaxPooling2D(pool_size=(2, 2)))\n",
        "model.add(Conv2D(64, (3, 3), activation='relu'))\n",
        "model.add(MaxPooling2D(pool_size=(2, 2)))\n",
        "model.add(Dropout(0.2))\n",
        "model.add(Flatten())\n",
        "model.add(Dense(128, activation='relu')) #Hidden layer 1\n",
        "model.add(Dense(50, activation='relu')) #hidden layer 2\n",
        "model.add(Dense(10, activation='softmax')) #O/P layer\n",
        "# Compile model\n",
        "model.compile(loss='categorical_crossentropy', optimizer='adam', metrics=['accuracy'])"
      ],
      "execution_count": 0,
      "outputs": [
        {
          "output_type": "stream",
          "text": [
            "WARNING:tensorflow:From /usr/local/lib/python3.6/dist-packages/tensorflow/python/ops/resource_variable_ops.py:435: colocate_with (from tensorflow.python.framework.ops) is deprecated and will be removed in a future version.\n",
            "Instructions for updating:\n",
            "Colocations handled automatically by placer.\n",
            "WARNING:tensorflow:From /usr/local/lib/python3.6/dist-packages/tensorflow/python/keras/layers/core.py:143: calling dropout (from tensorflow.python.ops.nn_ops) with keep_prob is deprecated and will be removed in a future version.\n",
            "Instructions for updating:\n",
            "Please use `rate` instead of `keep_prob`. Rate should be set to `rate = 1 - keep_prob`.\n"
          ],
          "name": "stdout"
        }
      ]
    },
    {
      "cell_type": "code",
      "metadata": {
        "id": "N6o4TQaptI2Q",
        "colab_type": "code",
        "outputId": "51d7c6fb-e154-490e-d4fd-e858c01c80bb",
        "colab": {
          "base_uri": "https://localhost:8080/",
          "height": 474
        }
      },
      "source": [
        "# Fit the model\n",
        "model.fit(train_images, train_labels, validation_data=(test_images, test_labels), epochs=10, batch_size=200)\n",
        "# Final evaluation of the model\n",
        "test_loss, test_acc = model.evaluate(test_images, test_labels, verbose=0)\n",
        "print('Test accuracy:%.2f%%' % (test_acc*100))\n",
        "print('Test loss:', test_loss)"
      ],
      "execution_count": 0,
      "outputs": [
        {
          "output_type": "stream",
          "text": [
            "Train on 60000 samples, validate on 10000 samples\n",
            "WARNING:tensorflow:From /usr/local/lib/python3.6/dist-packages/tensorflow/python/ops/math_ops.py:3066: to_int32 (from tensorflow.python.ops.math_ops) is deprecated and will be removed in a future version.\n",
            "Instructions for updating:\n",
            "Use tf.cast instead.\n",
            "Epoch 1/10\n",
            "60000/60000 [==============================] - 6s 95us/sample - loss: 0.2770 - acc: 0.9158 - val_loss: 0.0688 - val_acc: 0.9777\n",
            "Epoch 2/10\n",
            "60000/60000 [==============================] - 2s 33us/sample - loss: 0.0690 - acc: 0.9790 - val_loss: 0.0383 - val_acc: 0.9877\n",
            "Epoch 3/10\n",
            "60000/60000 [==============================] - 2s 32us/sample - loss: 0.0479 - acc: 0.9850 - val_loss: 0.0312 - val_acc: 0.9902\n",
            "Epoch 4/10\n",
            "60000/60000 [==============================] - 2s 32us/sample - loss: 0.0372 - acc: 0.9883 - val_loss: 0.0282 - val_acc: 0.9911\n",
            "Epoch 5/10\n",
            "60000/60000 [==============================] - 2s 32us/sample - loss: 0.0315 - acc: 0.9899 - val_loss: 0.0261 - val_acc: 0.9921\n",
            "Epoch 6/10\n",
            "60000/60000 [==============================] - 2s 32us/sample - loss: 0.0271 - acc: 0.9914 - val_loss: 0.0326 - val_acc: 0.9894\n",
            "Epoch 7/10\n",
            "60000/60000 [==============================] - 2s 32us/sample - loss: 0.0232 - acc: 0.9925 - val_loss: 0.0281 - val_acc: 0.9918\n",
            "Epoch 8/10\n",
            "60000/60000 [==============================] - 2s 32us/sample - loss: 0.0211 - acc: 0.9929 - val_loss: 0.0278 - val_acc: 0.9918\n",
            "Epoch 9/10\n",
            "60000/60000 [==============================] - 2s 32us/sample - loss: 0.0185 - acc: 0.9940 - val_loss: 0.0254 - val_acc: 0.9920\n",
            "Epoch 10/10\n",
            "60000/60000 [==============================] - 2s 32us/sample - loss: 0.0153 - acc: 0.9952 - val_loss: 0.0248 - val_acc: 0.9932\n",
            "Test accuracy:99.32%\n",
            "Test loss: 0.024805256194318646\n"
          ],
          "name": "stdout"
        }
      ]
    },
    {
      "cell_type": "code",
      "metadata": {
        "id": "rXBIoH6otcIx",
        "colab_type": "code",
        "colab": {}
      },
      "source": [
        "#disp func\n",
        "def display(i):\n",
        "    img = test_images[i]\n",
        "    print('\\n Digit in the image',np.argmax(test_labels[i]))\n",
        "    plt.imshow(img.reshape((28,28)), cmap=plt.cm.gray_r)"
      ],
      "execution_count": 0,
      "outputs": []
    },
    {
      "cell_type": "code",
      "metadata": {
        "id": "2_FixFYAv7Vh",
        "colab_type": "code",
        "outputId": "3aa26274-74df-4db0-dcf4-12d05d8854d5",
        "colab": {
          "base_uri": "https://localhost:8080/",
          "height": 319
        }
      },
      "source": [
        "#Author: Praneeth(gp01)\n",
        "#predicting the value\n",
        "\n",
        "import random\n",
        "ex=random.randrange(1 , 10000 , 1) #problem number\n",
        "\n",
        "new_samples = np.array([test_images[ex]], dtype=float)\n",
        "y = list(model.predict(new_samples))\n",
        "\n",
        "print (\" Predicted: \",np.argmax(y))\n",
        "display(ex)"
      ],
      "execution_count": 0,
      "outputs": [
        {
          "output_type": "stream",
          "text": [
            " Predicted:  0\n",
            "\n",
            " Digit in the image 0\n"
          ],
          "name": "stdout"
        },
        {
          "output_type": "display_data",
          "data": {
            "image/png": "[encoded data removed]",
            "text/plain": [
              "<Figure size 432x288 with 1 Axes>"
            ]
          },
          "metadata": {
            "tags": []
          }
        }
      ]
    }
  ]
}